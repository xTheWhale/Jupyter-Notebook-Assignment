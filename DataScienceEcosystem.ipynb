{
 "cells": [
  {
   "cell_type": "markdown",
   "id": "a67552f1-5c53-4b62-8e35-4d9df14d00d1",
   "metadata": {
    "tags": []
   },
   "source": [
    "# Data Science Tools and Ecosystem"
   ]
  },
  {
   "cell_type": "markdown",
   "id": "079314aa-31d0-44e7-b45a-ce97887bdaec",
   "metadata": {},
   "source": [
    "In this notebook, Data Science Tools and Ecosystem are summarized"
   ]
  },
  {
   "cell_type": "markdown",
   "id": "64060909-7708-4417-a25f-2b83034892ef",
   "metadata": {},
   "source": [
    "Some of the popular languages that Data Scientist use are:\n",
    "1. R\n",
    "2. Python\n",
    "3. Julia"
   ]
  },
  {
   "cell_type": "markdown",
   "id": "3257a9fd-8776-491b-ad55-c3c0b49e42f1",
   "metadata": {},
   "source": [
    "Some of the commonly used libraries used by Data Scientist include:\n",
    "1. Pandas\n",
    "2. TensorFlow\n",
    "3. GGPlot"
   ]
  },
  {
   "cell_type": "markdown",
   "id": "0e2069f0-7169-474f-882b-af43fe6f7d93",
   "metadata": {},
   "source": [
    "| Data Science Tools |\n",
    "| ------- |\n",
    "| Jupyter IDE|\n",
    "| R Studio |\n",
    "| Spyder | "
   ]
  },
  {
   "cell_type": "markdown",
   "id": "8d2e4ee5-1fb2-4594-b22a-3625339449a7",
   "metadata": {},
   "source": [
    "### Below are a few examples of evaluating arithmetic expressions in Python"
   ]
  },
  {
   "cell_type": "code",
   "execution_count": 1,
   "id": "da1cca5e-9017-4864-ab32-582134cbf033",
   "metadata": {
    "tags": []
   },
   "outputs": [
    {
     "data": {
      "text/plain": [
       "17"
      ]
     },
     "execution_count": 1,
     "metadata": {},
     "output_type": "execute_result"
    }
   ],
   "source": [
    "#This is a simple arithmetic expression to multiply then add integers\n",
    "(3*4)+5"
   ]
  },
  {
   "cell_type": "code",
   "execution_count": 5,
   "id": "0263eee9-043e-4b6d-b401-8c2f3cab454d",
   "metadata": {
    "tags": []
   },
   "outputs": [
    {
     "data": {
      "text/plain": [
       "33.333333333333336"
      ]
     },
     "execution_count": 5,
     "metadata": {},
     "output_type": "execute_result"
    }
   ],
   "source": [
    "#This will convert 200 minutes to hours by dividing by 60\n",
    "200/6"
   ]
  },
  {
   "cell_type": "markdown",
   "id": "008c65c7-9910-40c1-93fc-4b57f345f7b2",
   "metadata": {},
   "source": [
    "___Objectives:___\n",
    "+ R\n",
    "+ Julia\n",
    "+ Python\n"
   ]
  },
  {
   "cell_type": "markdown",
   "id": "eff6bf8c-7152-428a-8286-a963cd4f7119",
   "metadata": {},
   "source": [
    "## Author:\n",
    "Roderick H."
   ]
  },
  {
   "cell_type": "code",
   "execution_count": null,
   "id": "adc54461-6bf0-436e-8866-355cf43d2cee",
   "metadata": {},
   "outputs": [],
   "source": []
  }
 ],
 "metadata": {
  "kernelspec": {
   "display_name": "Python",
   "language": "python",
   "name": "conda-env-python-py"
  },
  "language_info": {
   "codemirror_mode": {
    "name": "ipython",
    "version": 3
   },
   "file_extension": ".py",
   "mimetype": "text/x-python",
   "name": "python",
   "nbconvert_exporter": "python",
   "pygments_lexer": "ipython3",
   "version": "3.7.12"
  }
 },
 "nbformat": 4,
 "nbformat_minor": 5
}
